{
 "cells": [
  {
   "cell_type": "markdown",
   "metadata": {},
   "source": [
    "Kata 5. Operaciones aritméticas"
   ]
  },
  {
   "cell_type": "code",
   "execution_count": null,
   "metadata": {},
   "outputs": [],
   "source": [
    "#DISTANCIA ENTRE PLANETAS: EJERCICIO 1\n",
    "dstnc_t=149597870\n",
    "dstnc_j=778547200\n",
    "\n",
    "d_totalkm = dstnc_j-dstnc_t\n",
    "d_totalmi = d_totalkm*0.621\n",
    "\n",
    "print(\"La distancia en kilómetros entre el planeta Tierra y Júpiter es: %s km.\\nEste valor también se puede expresar como también puede expresarse como: %s millas\" %(d_totalkm,d_totalmi))\n",
    "\n"
   ]
  },
  {
   "cell_type": "code",
   "execution_count": 13,
   "metadata": {},
   "outputs": [
    {
     "name": "stdout",
     "output_type": "stream",
     "text": [
      "Tabla de distancias\n",
      "Mercurio 57900000 KM\n",
      "Venus\t 108200000 KM\n",
      "Tierra\t 149600000 KM\n",
      "Marte\t 227900000 KM\n",
      "Júpiter\t 778600000 KM\n",
      "Saturno\t 1433500000 KM\n",
      "Urano\t 2872500000 KM\n",
      "La distancia en kilómetros entre el planeta 1 y el plantea 2 es: 527 km.\n",
      "Este valor también se puede expresar como también puede expresarse como: 327.267 millas\n"
     ]
    }
   ],
   "source": [
    "#DISTANCIA ENTRE PLANETAS: EJERCICIO 2\n",
    "tabla_de_distancias = [\"Tabla de distancias\",\"Mercurio 57900000 KM\",\"Venus\t 108200000 KM\",\"Tierra\t 149600000 KM\",\"Marte\t 227900000 KM\",\"Júpiter\t 778600000 KM\",\"Saturno\t 1433500000 KM\",\"Urano\t 2872500000 KM\",\"Neptuno\t 4495100000 KM\"]\n",
    "i=0\n",
    "for i in range(8):\n",
    "    print(tabla_de_distancias[i])\n",
    "\n",
    "dstnc_1= int(input(\"Ingrese la distancia en kilómetros entre el sol y el primer planeta\"))\n",
    "dstnc_2= int(input(\"Ingrese la distancia en kilómetros entre el sol y el segundo planeta\"))\n",
    "\n",
    "d_tkm= abs(dstnc_1-dstnc_2)\n",
    "d_tmi= d_tkm*0.621\n",
    "\n",
    "print(\"\"\"La distancia en kilómetros entre el planeta 1 y el plantea 2 es: %s km.\n",
    "Este valor también se puede expresar como también puede expresarse como: %s millas\"\"\" %(d_tkm,d_tmi))"
   ]
  }
 ],
 "metadata": {
  "interpreter": {
   "hash": "b89b5cfaba6639976dc87ff2fec6d58faec662063367e2c229c520fe71072417"
  },
  "kernelspec": {
   "display_name": "Python 3.10.2 64-bit",
   "language": "python",
   "name": "python3"
  },
  "language_info": {
   "codemirror_mode": {
    "name": "ipython",
    "version": 3
   },
   "file_extension": ".py",
   "mimetype": "text/x-python",
   "name": "python",
   "nbconvert_exporter": "python",
   "pygments_lexer": "ipython3",
   "version": "3.10.2"
  },
  "orig_nbformat": 4
 },
 "nbformat": 4,
 "nbformat_minor": 2
}
