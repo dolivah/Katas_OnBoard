{
 "cells": [
  {
   "cell_type": "code",
   "execution_count": 2,
   "metadata": {},
   "outputs": [
    {
     "name": "stdout",
     "output_type": "stream",
     "text": [
      "¡ALERTA DE ASTEROIDE, BUSQUEN REFUGIO!\n"
     ]
    }
   ],
   "source": [
    "# Añadir el código necesario para crear una variable que guarde la velocidad del asteroide.\n",
    "# Escribe una expresión de prueba para calcular si necesita una advertencia.\n",
    "# Agregue las instrucciones que se ejecutarán si la expresión de prueba es true o false.\n",
    "v_ast = 49\n",
    "if v_ast>20:\n",
    "    print(\"¡ALERTA DE ASTEROIDE, BUSQUEN REFUGIO!\")\n",
    "else:\n",
    "    print(\"ALERTA VERDE, NO HAY PROBLEMAS\")\n",
    "    "
   ]
  },
  {
   "cell_type": "code",
   "execution_count": 5,
   "metadata": {},
   "outputs": [
    {
     "name": "stdout",
     "output_type": "stream",
     "text": [
      "NO HAY NADA QUE VER GENTE, SIGAN SU DÍA NORMAL\n"
     ]
    }
   ],
   "source": [
    "# Agrega el código para crear una variable para un asteroide que viaja a 19 km/s\n",
    "# Escribe varias expresiones de prueba para determinar si puedes ver el rayo de luz desde la tierra\n",
    "# Agrega las instrucciones que se ejecutarán si las expresiones de prueba son True o False\n",
    "v_ast = 19\n",
    "if v_ast>=20:\n",
    "    print(\"¡GENTE DE LA TIERRA, MIREN AL CIELO EL RAYO DE LUZ DEL ASTEROIDE!\")\n",
    "else:\n",
    "    print(\"NO HAY NADA QUE VER GENTE, SIGAN SU DÍA\")"
   ]
  },
  {
   "cell_type": "code",
   "execution_count": 9,
   "metadata": {},
   "outputs": [
    {
     "name": "stdout",
     "output_type": "stream",
     "text": [
      "SE APROXIMA UN GRAN ASEROIDE LENTAMENTE\n"
     ]
    }
   ],
   "source": [
    "# Agrega el código para crear nuevas variables para la velocidad y el tamaño del asteroide\n",
    "# Para probar el código, prueba con varias velocidades y tamaños\n",
    "# Escribe varias expresiones de prueba o combinaciones de expresiones de prueba para determinar qué mensaje se debe enviar a Tierra.\n",
    "v_ast = int(input(\"Ingrese la velocidad del asteroide en metros sobre segundo\"))\n",
    "t_ast = int(input(\"Ingrese el tamaño del asteroide en metros\"))\n",
    "\n",
    "if t_ast>int(25) and v_ast>=int(25):\n",
    "    print(\"¡ALERTA. UN ASETEROIDE DE GRAN TAMAÑO SE APROXIMA RÁPIDAMENTE A LA TIERRA, BUSQUEN REFUGIO!\")\n",
    "    print(\"¡ALERTA. UN ASETEROIDE SE APROXIMA A LA TIERRA A GRAN VELOCIDAD, BUSQUEN REFUGIO!\")\n",
    "elif v_ast>=int(20):\n",
    "    print(\"¡ALERTA. UN ASETEROIDE DE GRAN TAMAÑO SE APROXIMA A LA TIERRA, BUSQUEN REFUGIO!\")\n",
    "    print(\"MIREN EN EL CIELO, PUEDEN VER EL DESTELLO DEL ASTEROIDE\")\n",
    "elif t_ast<int(25):\n",
    "    print(\"SE APROXIMA UN PEQUEÑO ASEROIDE A GRAN VELOCIDAD, PERO NO ES LETAL POR SU TAMAÑO\")\n",
    "elif v_ast<int(20):\n",
    "    print(\"SE APROXIMA LENTAMENTE UN GRAN ASEROIDE\")\n",
    "else:\n",
    "    print(\"SIGAN CON SU DÍA\")\n",
    "\n"
   ]
  }
 ],
 "metadata": {
  "interpreter": {
   "hash": "b89b5cfaba6639976dc87ff2fec6d58faec662063367e2c229c520fe71072417"
  },
  "kernelspec": {
   "display_name": "Python 3.10.2 64-bit",
   "language": "python",
   "name": "python3"
  },
  "language_info": {
   "codemirror_mode": {
    "name": "ipython",
    "version": 3
   },
   "file_extension": ".py",
   "mimetype": "text/x-python",
   "name": "python",
   "nbconvert_exporter": "python",
   "pygments_lexer": "ipython3",
   "version": "3.10.2"
  },
  "orig_nbformat": 4
 },
 "nbformat": 4,
 "nbformat_minor": 2
}
