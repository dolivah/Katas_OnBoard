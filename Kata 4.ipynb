{
 "cells": [
  {
   "cell_type": "markdown",
   "metadata": {},
   "source": [
    "MODULO 4: CADENAS"
   ]
  },
  {
   "cell_type": "code",
   "execution_count": null,
   "metadata": {},
   "outputs": [],
   "source": [
    "text = \"\"\"Interesting facts about the Moon. The Moon is Earth's only satellite. There are several interesting facts about the Moon and how it affects life here on Earth. \n",
    "On average, the Moon moves 4cm away from the Earth every year. This yearly drift is not significant enough to cause immediate effects on Earth. The highest daylight temperature of the Moon is 127 C.\"\"\"\n",
    "\n",
    "# Añade el código necesario\n",
    "oraciones_de_txt = text.split(\".\")\n",
    "print(oraciones_de_txt)\n",
    "# Define las palabras pista: average, temperature y distance suenan bien\n",
    "palabras_clave = [\"average\",\"temperature\",\"distance\"]\n",
    "p_c_luna = []\n",
    "\n",
    "# Ciclo for para recorrer la cadena\n",
    "o=0\n",
    "p=0\n",
    "for o in oraciones_de_txt:\n",
    "    for p in palabras_clave:\n",
    "        if p in o:\n",
    "            p_c_luna.append(o)\n",
    "            break\n",
    "\n",
    "print(\"\\n\", p_c_luna)\n",
    "\n",
    "# Ciclo para cambiar C a Celsius\n",
    "text.replace(\"C\",\"Celsius\")\n"
   ]
  },
  {
   "cell_type": "code",
   "execution_count": 55,
   "metadata": {},
   "outputs": [
    {
     "name": "stdout",
     "output_type": "stream",
     "text": [
      "Hechos de la gravedad sobre la luna \n",
      "--------------------------------------------------------------------------\n",
      "Nombre del planeta: Tierra \n",
      "La gravedad en la luna es 1.6199999999999999 m/s^2\n"
     ]
    }
   ],
   "source": [
    "# Datos con los que vas a trabajar\n",
    "name = \"la luna\"\n",
    "gravity = 0.00162 # in kms\n",
    "planet = \"Tierra\"\n",
    "\n",
    "grav_1000 = gravity*1000 \n",
    "\n",
    "# Creamos la plantilla\n",
    "# Creamos el título\n",
    "plantilla = (\"\"\"Hechos de la gravedad sobre %s\n",
    "--------------------------------------------------------------------------\n",
    "Nombre del planeta: %s \\nLa gravedad en la luna es %s m/s^2\"\"\")\n",
    "\n",
    "# Unión de ambas cadenas\n",
    "print(plantilla%(name,planet,grav_1000))\n",
    "\n"
   ]
  }
 ],
 "metadata": {
  "interpreter": {
   "hash": "b89b5cfaba6639976dc87ff2fec6d58faec662063367e2c229c520fe71072417"
  },
  "kernelspec": {
   "display_name": "Python 3.10.2 64-bit",
   "language": "python",
   "name": "python3"
  },
  "language_info": {
   "codemirror_mode": {
    "name": "ipython",
    "version": 3
   },
   "file_extension": ".py",
   "mimetype": "text/x-python",
   "name": "python",
   "nbconvert_exporter": "python",
   "pygments_lexer": "ipython3",
   "version": "3.10.2"
  },
  "orig_nbformat": 4
 },
 "nbformat": 4,
 "nbformat_minor": 2
}
